# -*- coding: utf-8 -*-
"""
Created on Wed Jan 26 10:27:36 2022

@author: techv
"""

import math
from math import sqrt as rt
import numpy as np
from matplotlib import pyplot as plt

# %matplotlib qt

x = int(input("value of x:"))
y = int(input("value of y:"))

r = 20


if r >= rt((x**2)+(y**2)):
    a1 = rt((r**2)-(y**2)) + x
    a2 = rt((r**2)-(x**2)) - y
    a3 = rt((r**2)-(y**2)) - x
    a4 = rt((r**2)-(x**2)) + y
    
    
plt.rcParams["figure.figsize"] = [15.00, 15.00]
plt.rcParams["figure.autolayout"] = True
data = np.array([[-a1, 0], [0, a2], [a3, 0], [0, -a4]])
# origin = np.array([[0, 0, 0, 0], [0, 0, 0, 0]])
origin = np.array([[0, 0], [0, 0], [0, 0], [0, 0]])
#plt.quiver(*origin, data[:, 0], data[:, 1], color=['black', 'red', 'green', 'yellow'], scale=30)
plt.plot(data[0],origin[])
plt.xlim(-1,1)
plt.ylim(-1,1)

plt.show()